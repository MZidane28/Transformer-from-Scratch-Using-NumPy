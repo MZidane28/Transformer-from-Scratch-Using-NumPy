{
  "nbformat": 4,
  "nbformat_minor": 0,
  "metadata": {
    "colab": {
      "provenance": []
    },
    "kernelspec": {
      "name": "python3",
      "display_name": "Python 3"
    },
    "language_info": {
      "name": "python"
    }
  },
  "cells": [
    {
      "cell_type": "markdown",
      "source": [
        "# **Tugas Individu: Implementasi Arsitektur Transformer dari Nol dengan NumPy**\n",
        "\n",
        "Oleh:\n",
        "\n",
        "> Nama: Muhammad Zidane Septian Irsyadi  \n",
        "NIM: 22/504678/TK/55212"
      ],
      "metadata": {
        "id": "OM7TyuqNqxRX"
      }
    },
    {
      "cell_type": "markdown",
      "source": [
        "# Komponen yang Wajib Dibuat\n",
        "\n",
        "> 1. Token Embedding\n",
        "2. Positional Encoding (sinusoidal atau learned, pilih salah satu)\n",
        "3. Scaled Dot-Product Attention dengan softmax\n",
        "4. Multi-Head Attention (Q, K, V, concat, dan proyeksi akhir)\n",
        "5. Feed-Forward Network (FFN) dua lapisan dengan aktivasi non-linear\n",
        "6. Residual Connection + Layer Normalization (pre-norm)\n",
        "7. Causal Masking untuk mencegah akses informasi dari token masa depan\n",
        "8. Output Layer: proyeksi ke ukuran vocab dan distribusi softmax\n",
        "\n",
        "\n",
        "\n"
      ],
      "metadata": {
        "id": "xiWHGDjpq6oF"
      }
    },
    {
      "cell_type": "markdown",
      "source": [
        "## Import NumPy and define some hyperparameters."
      ],
      "metadata": {
        "id": "y6H1I11Osd0j"
      }
    },
    {
      "cell_type": "code",
      "source": [
        "import numpy as np\n",
        "import matplotlib.pyplot as plt\n",
        "import seaborn as sns\n",
        "\n",
        "# Hyperparameters\n",
        "vocab_size = 1000\n",
        "d_model = 512\n",
        "n_heads = 8\n",
        "n_layers = 6\n",
        "d_ff = 2048\n",
        "seq_len = 100\n",
        "dropout_rate = 0.1"
      ],
      "metadata": {
        "id": "Mh9fJyFAr5Ln"
      },
      "execution_count": 21,
      "outputs": []
    },
    {
      "cell_type": "markdown",
      "source": [
        "## Token Embedding"
      ],
      "metadata": {
        "id": "R6gIQYGzsOS-"
      }
    },
    {
      "cell_type": "code",
      "source": [
        "class TokenEmbedding:\n",
        "    def __init__(self, vocab_size, d_model):\n",
        "        self.embedding = np.random.randn(vocab_size, d_model)\n",
        "\n",
        "    def forward(self, x):\n",
        "        \"\"\"\n",
        "        x: Input token IDs, shape (batch_size, seq_len)\n",
        "        Returns embedding vectors, shape (batch_size, seq_len, d_model)\n",
        "        \"\"\"\n",
        "        return self.embedding[x]"
      ],
      "metadata": {
        "id": "vitaQf3IsNnR"
      },
      "execution_count": 22,
      "outputs": []
    },
    {
      "cell_type": "markdown",
      "source": [
        "## Positional Encoding (Sinusoidal)"
      ],
      "metadata": {
        "id": "90BIGwBTtBMK"
      }
    },
    {
      "cell_type": "code",
      "source": [
        "def positional_encoding(seq_len, d_model):\n",
        "    \"\"\"Menghasilkan matriks positional encoding sinusoidal.\"\"\"\n",
        "    pos = np.arange(seq_len)[:, np.newaxis]\n",
        "    i = np.arange(d_model)[np.newaxis, :]\n",
        "\n",
        "    angle_rates = 1 / np.power(10000, (2 * (i // 2)) / np.float32(d_model))\n",
        "    angle_rads = pos * angle_rates\n",
        "\n",
        "    angle_rads[:, 0::2] = np.sin(angle_rads[:, 0::2])\n",
        "    angle_rads[:, 1::2] = np.cos(angle_rads[:, 1::2])\n",
        "\n",
        "    return angle_rads[np.newaxis, :, :]"
      ],
      "metadata": {
        "id": "_O0ftfBBtDbK"
      },
      "execution_count": 23,
      "outputs": []
    },
    {
      "cell_type": "markdown",
      "source": [
        "## Scaled Dot-Product Attention"
      ],
      "metadata": {
        "id": "1T0z3rFNtjvu"
      }
    },
    {
      "cell_type": "code",
      "source": [
        "def softmax(x):\n",
        "    \"\"\"Fungsi aktivasi softmax\"\"\"\n",
        "    e_x = np.exp(x - np.max(x, axis=-1, keepdims=True))\n",
        "    return e_x / np.sum(e_x, axis=-1, keepdims=True)\n",
        "\n",
        "def scaled_dot_product_attention(q, k, v, mask=None):\n",
        "    \"\"\"Menghitung Scaled Dot-Product Attention.\"\"\"\n",
        "    matmul_qk = np.matmul(q, k.transpose(0, 1, 3, 2))\n",
        "\n",
        "    d_k = q.shape[-1]\n",
        "    scaled_attention_logits = matmul_qk / np.sqrt(d_k)\n",
        "\n",
        "    if mask is not None:\n",
        "        scaled_attention_logits += mask\n",
        "\n",
        "    attention_weights = softmax(scaled_attention_logits)\n",
        "    output = np.matmul(attention_weights, v)\n",
        "\n",
        "    return output, attention_weights"
      ],
      "metadata": {
        "id": "wCeDX_KOtu-1"
      },
      "execution_count": 24,
      "outputs": []
    },
    {
      "cell_type": "markdown",
      "source": [
        "## Multi-Head Attention"
      ],
      "metadata": {
        "id": "OfpwCqUVtwVX"
      }
    },
    {
      "cell_type": "code",
      "source": [
        "class MultiHeadAttention:\n",
        "    def __init__(self, d_model, n_heads):\n",
        "        self.n_heads = n_heads\n",
        "        self.d_model = d_model\n",
        "        assert d_model % n_heads == 0\n",
        "        self.d_k = d_model // n_heads\n",
        "\n",
        "        self.wq = np.random.randn(d_model, d_model)\n",
        "        self.wk = np.random.randn(d_model, d_model)\n",
        "        self.wv = np.random.randn(d_model, d_model)\n",
        "        self.dense = np.random.randn(d_model, d_model)\n",
        "\n",
        "    def split_heads(self, x, batch_size):\n",
        "        x = x.reshape(batch_size, -1, self.n_heads, self.d_k)\n",
        "        return x.transpose(0, 2, 1, 3)\n",
        "\n",
        "    def forward(self, q, k, v, mask):\n",
        "        batch_size = q.shape[0]\n",
        "\n",
        "        q = np.matmul(q, self.wq)\n",
        "        k = np.matmul(k, self.wk)\n",
        "        v = np.matmul(v, self.wv)\n",
        "\n",
        "        q = self.split_heads(q, batch_size)\n",
        "        k = self.split_heads(k, batch_size)\n",
        "        v = self.split_heads(v, batch_size)\n",
        "\n",
        "        scaled_attention, attention_weights = scaled_dot_product_attention(q, k, v, mask)\n",
        "\n",
        "        scaled_attention = scaled_attention.transpose(0, 2, 1, 3)\n",
        "        concat_attention = scaled_attention.reshape(batch_size, -1, self.d_model)\n",
        "\n",
        "        output = np.matmul(concat_attention, self.dense)\n",
        "        return output, attention_weights # Mengembalikan attention_weights"
      ],
      "metadata": {
        "id": "BRhZ6f4jtz4-"
      },
      "execution_count": 25,
      "outputs": []
    },
    {
      "cell_type": "markdown",
      "source": [
        "## Feed-Forward Network (FFN)"
      ],
      "metadata": {
        "id": "4IxzNBDJt7xy"
      }
    },
    {
      "cell_type": "code",
      "source": [
        "def relu(x):\n",
        "    return np.maximum(0, x)\n",
        "\n",
        "class FeedForwardNetwork:\n",
        "    def __init__(self, d_model, d_ff):\n",
        "        self.w1 = np.random.randn(d_model, d_ff)\n",
        "        self.b1 = np.zeros(d_ff)\n",
        "        self.w2 = np.random.randn(d_ff, d_model)\n",
        "        self.b2 = np.zeros(d_model)\n",
        "\n",
        "    def forward(self, x):\n",
        "        x = relu(np.matmul(x, self.w1) + self.b1)\n",
        "        x = np.matmul(x, self.w2) + self.b2\n",
        "        return x"
      ],
      "metadata": {
        "id": "Wr2t3SNet_UC"
      },
      "execution_count": 26,
      "outputs": []
    },
    {
      "cell_type": "markdown",
      "source": [
        "## Residual Connection + Layer Normalization (Pre-Norm)"
      ],
      "metadata": {
        "id": "sXTEda7JuCVm"
      }
    },
    {
      "cell_type": "code",
      "source": [
        "class LayerNormalization:\n",
        "    def __init__(self, d_model, epsilon=1e-5):\n",
        "        self.gamma = np.ones(d_model)  # scale\n",
        "        self.beta = np.zeros(d_model)   # shift\n",
        "        self.epsilon = epsilon\n",
        "\n",
        "    def forward(self, x):\n",
        "        mean = np.mean(x, axis=-1, keepdims=True)\n",
        "        std = np.std(x, axis=-1, keepdims=True)\n",
        "        return self.gamma * (x - mean) / (std + self.epsilon) + self.beta"
      ],
      "metadata": {
        "id": "LaluYVYsuFA5"
      },
      "execution_count": 27,
      "outputs": []
    },
    {
      "cell_type": "markdown",
      "source": [
        "## Causal Masking"
      ],
      "metadata": {
        "id": "fbhDKYbvuJwG"
      }
    },
    {
      "cell_type": "code",
      "source": [
        "def create_causal_mask(size):\n",
        "    \"\"\"Membuat causal mask untuk mencegah perhatian ke token masa depan.\"\"\"\n",
        "    mask = np.triu(np.ones((size, size)), k=1) * -1e9\n",
        "    return mask"
      ],
      "metadata": {
        "id": "htKimieEuKfi"
      },
      "execution_count": 28,
      "outputs": []
    },
    {
      "cell_type": "markdown",
      "source": [],
      "metadata": {
        "id": "aQFT_kYjuL2B"
      }
    },
    {
      "cell_type": "code",
      "source": [
        "class DecoderBlock:\n",
        "    def __init__(self, d_model, n_heads, d_ff):\n",
        "        self.mha = MultiHeadAttention(d_model, n_heads)\n",
        "        self.ffn = FeedForwardNetwork(d_model, d_ff)\n",
        "        self.layernorm1 = LayerNormalization(d_model)\n",
        "        self.layernorm2 = LayerNormalization(d_model)\n",
        "\n",
        "    def forward(self, x, mask):\n",
        "        norm_x = self.layernorm1.forward(x)\n",
        "        attn_output, attn_weights = self.mha.forward(norm_x, norm_x, norm_x, mask)\n",
        "        x = x + attn_output\n",
        "\n",
        "        norm_x = self.layernorm2.forward(x)\n",
        "        ffn_output = self.ffn.forward(norm_x)\n",
        "        x = x + ffn_output\n",
        "\n",
        "        return x, attn_weights # Mengembalikan attention_weights dari MHA"
      ],
      "metadata": {
        "id": "6-mCrP3nufoF"
      },
      "execution_count": 29,
      "outputs": []
    },
    {
      "cell_type": "markdown",
      "source": [
        "## Output Layer"
      ],
      "metadata": {
        "id": "mo9IWRayuhm3"
      }
    },
    {
      "cell_type": "code",
      "source": [
        "class OutputLayer:\n",
        "    def __init__(self, d_model, vocab_size):\n",
        "        self.dense = np.random.randn(d_model, vocab_size)\n",
        "\n",
        "    def forward(self, x):\n",
        "        return np.matmul(x, self.dense)"
      ],
      "metadata": {
        "id": "LD2AuMknuiu4"
      },
      "execution_count": 30,
      "outputs": []
    },
    {
      "cell_type": "code",
      "source": [
        "class Transformer:\n",
        "    def __init__(self, vocab_size, d_model, n_layers, n_heads, d_ff, seq_len):\n",
        "        self.embedding = TokenEmbedding(vocab_size, d_model)\n",
        "        self.pos_encoding = positional_encoding(seq_len, d_model)\n",
        "        self.decoder_blocks = [DecoderBlock(d_model, n_heads, d_ff) for _ in range(n_layers)]\n",
        "        self.output_layer = OutputLayer(d_model, vocab_size)\n",
        "        self.seq_len = seq_len\n",
        "\n",
        "    def forward(self, x):\n",
        "        mask = create_causal_mask(x.shape[1])\n",
        "\n",
        "        x = self.embedding.forward(x)\n",
        "        x += self.pos_encoding[:, :x.shape[1], :]\n",
        "\n",
        "        attention_weights = None\n",
        "        for i, block in enumerate(self.decoder_blocks):\n",
        "            x, weights = block.forward(x, mask)\n",
        "            # Simpan bobot dari layer terakhir untuk visualisasi\n",
        "            if i == n_layers - 1:\n",
        "                attention_weights = weights\n",
        "\n",
        "        logits = self.output_layer.forward(x)\n",
        "        return logits, attention_weights # Kembalikan logits dan bobot attention terakhir"
      ],
      "metadata": {
        "id": "k5Bx5Idzulql"
      },
      "execution_count": 31,
      "outputs": []
    },
    {
      "cell_type": "markdown",
      "source": [
        "## Visualisasi Distribution Attention"
      ],
      "metadata": {
        "id": "VuAiUc8Juwvd"
      }
    },
    {
      "cell_type": "code",
      "source": [
        "def visualize_attention(attention_weights, input_tokens_str, head=0, sample=0):\n",
        "    \"\"\"Memvisualisasikan matriks attention untuk satu head dan satu sampel.\"\"\"\n",
        "    if attention_weights is None:\n",
        "        print(\"Attention weights tidak tersedia.\")\n",
        "        return\n",
        "\n",
        "    attn_matrix = attention_weights[sample, head, :, :]\n",
        "\n",
        "    plt.figure(figsize=(10, 8))\n",
        "    sns.heatmap(attn_matrix,\n",
        "                xticklabels=input_tokens_str,\n",
        "                yticklabels=input_tokens_str,\n",
        "                annot=False,\n",
        "                cmap='viridis')\n",
        "\n",
        "    plt.xlabel('Key (Token yang Dilihat)')\n",
        "    plt.ylabel('Query (Token yang Melihat)')\n",
        "    plt.title(f'Attention Heatmap - Layer Terakhir, Head {head}')\n",
        "    plt.show()\n"
      ],
      "metadata": {
        "id": "PHKsFzKHuzUp"
      },
      "execution_count": 32,
      "outputs": []
    },
    {
      "cell_type": "markdown",
      "source": [
        "## Pengujian"
      ],
      "metadata": {
        "id": "PHRTBvADustN"
      }
    },
    {
      "cell_type": "code",
      "source": [
        "if __name__ == \"__main__\":\n",
        "    # Parameter untuk pengujian\n",
        "    batch_size = 1\n",
        "    input_seq_len = 15\n",
        "    input_tokens = np.random.randint(0, vocab_size, size=(batch_size, input_seq_len))\n",
        "\n",
        "    # Inisialisasi model\n",
        "    model = Transformer(\n",
        "        vocab_size=vocab_size,\n",
        "        d_model=d_model,\n",
        "        n_layers=n_layers,\n",
        "        n_heads=n_heads,\n",
        "        d_ff=d_ff,\n",
        "        seq_len=seq_len\n",
        "    )\n",
        "\n",
        "    # Jalankan forward pass\n",
        "    logits, attention_weights_final_layer = model.forward(input_tokens)\n",
        "\n",
        "    # --- Verifikasi Output ---\n",
        "    print(\"--- Verifikasi Bentuk Tensor ---\")\n",
        "    print(f\"Bentuk Input Tokens: {input_tokens.shape}\")\n",
        "    print(f\"Bentuk Logits Output: {logits.shape}\")\n",
        "    print(f\"Bentuk Attention Weights: {attention_weights_final_layer.shape}\")\n",
        "    print(\"\\nEkspektasi Logits: (batch_size, seq_len, vocab_size)\")\n",
        "    print(\"Ekspektasi Attention Weights: (batch_size, n_heads, seq_len, seq_len)\\n\")\n",
        "\n",
        "    # --- Verifikasi Softmax ---\n",
        "    last_token_logits = logits[:, -1, :]\n",
        "    probs = softmax(last_token_logits)\n",
        "    print(\"--- Verifikasi Softmax (Probabilitas Token Berikutnya) ---\")\n",
        "    print(f\"Bentuk Probabilitas: {probs.shape}\")\n",
        "    print(f\"Jumlah probabilitas untuk sampel pertama: {np.sum(probs[0])}\\n\") # Harus mendekati 1.0\n",
        "\n",
        "    # --- Demonstrasi Visualisasi Attention ---\n",
        "    print(\"--- Menampilkan Visualisasi Attention ---\")\n",
        "    # Buat label dummy untuk plot\n",
        "    dummy_labels = [f\"token_{i}\" for i in range(input_seq_len)]\n",
        "\n",
        "    # Visualisasikan attention dari head ke-0 pada sampel ke-0 dari batch\n",
        "    visualize_attention(attention_weights_final_layer, dummy_labels, head=0, sample=0)\n"
      ],
      "metadata": {
        "colab": {
          "base_uri": "https://localhost:8080/",
          "height": 994
        },
        "id": "AqHGHkZ5uuZC",
        "outputId": "5677c8c7-ef05-4144-a82e-675bd4938d70"
      },
      "execution_count": 33,
      "outputs": [
        {
          "output_type": "stream",
          "name": "stdout",
          "text": [
            "--- Verifikasi Bentuk Tensor ---\n",
            "Bentuk Input Tokens: (1, 15)\n",
            "Bentuk Logits Output: (1, 15, 1000)\n",
            "Bentuk Attention Weights: (1, 8, 15, 15)\n",
            "\n",
            "Ekspektasi Logits: (batch_size, seq_len, vocab_size)\n",
            "Ekspektasi Attention Weights: (batch_size, n_heads, seq_len, seq_len)\n",
            "\n",
            "--- Verifikasi Softmax (Probabilitas Token Berikutnya) ---\n",
            "Bentuk Probabilitas: (1, 1000)\n",
            "Jumlah probabilitas untuk sampel pertama: 1.0\n",
            "\n",
            "--- Menampilkan Visualisasi Attention ---\n"
          ]
        },
        {
          "output_type": "display_data",
          "data": {
            "text/plain": [
              "<Figure size 1000x800 with 2 Axes>"
            ],
            "image/png": "[encoded data removed]"
          },
          "metadata": {}
        }
      ]
    }
  ]
}